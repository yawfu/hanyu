{
 "cells": [
  {
   "cell_type": "code",
   "execution_count": null,
   "id": "9ff76826-4ff6-40e2-9142-db29e9cf54d8",
   "metadata": {},
   "outputs": [],
   "source": [
    "!pip install pypinyin\n",
    "!pip install gtts"
   ]
  },
  {
   "cell_type": "code",
   "execution_count": 20,
   "id": "d0ab3ebe-ee2b-41b8-b055-234937fd3d14",
   "metadata": {},
   "outputs": [],
   "source": [
    "from IPython.display import display, HTML\n",
    "from IPython.display import YouTubeVideo\n",
    "from pypinyin import pinyin, Style\n",
    "from gtts import gTTS\n",
    "import re, io, base64\n",
    "\n",
    "def text_tweaks(chinese_text):\n",
    "    hanzi_pattern = re.compile(r'[\\u4e00-\\u9fff\\u3400-\\u4dbf\\uf900-\\ufaff]')\n",
    "    lines = chinese_text.strip().split('\\n')\n",
    "    \n",
    "    html_parts = [\n",
    "        \"<div style='font-size: 20px; line-height: 2.0; font-family: Arial, sans-serif;'>\"\n",
    "    ]\n",
    "    \n",
    "    for line in lines:\n",
    "        line_html = \"\"\n",
    "        for char in line:\n",
    "            if hanzi_pattern.match(char):\n",
    "                try:\n",
    "                    pin = pinyin(char, style=Style.TONE)[0][0]\n",
    "                    line_html += (\n",
    "                        f\"<ruby><rb>{char}</rb>\"\n",
    "                        f\"<rt style='font-size: 0.6em; color: #666;'>{pin}</rt></ruby>\"\n",
    "                    )\n",
    "                except:\n",
    "                    line_html += char\n",
    "            else:\n",
    "                line_html += char\n",
    "        \n",
    "        if any(hanzi_pattern.match(c) for c in line):\n",
    "            mp3_buffer = io.BytesIO()\n",
    "            gTTS(line, lang='zh-cn').write_to_fp(mp3_buffer)\n",
    "            mp3_data = mp3_buffer.getvalue()\n",
    "            mp3_b64 = base64.b64encode(mp3_data).decode('utf-8')\n",
    "            audio_tag = (\n",
    "                f\"<audio controls style='display:block; margin-top:5px;'>\"\n",
    "                f\"<source src='data:audio/mpeg;base64,{mp3_b64}' type='audio/mpeg'>\"\n",
    "                f\"Your browser has no audio support\"\n",
    "                f\"</audio>\"\n",
    "            )\n",
    "            html_parts.append(f\"<div style='margin-bottom:20px;'>{line_html}{audio_tag}</div>\")\n",
    "        else:\n",
    "            html_parts.append(f\"<div style='margin-bottom:20px;'>{line_html}</div>\")\n",
    "    \n",
    "    html_parts.append(\"</div>\")\n",
    "    display(HTML(\"\".join(html_parts)))"
   ]
  },
  {
   "cell_type": "markdown",
   "id": "c3fdbba2-241f-4411-b921-d87c63c8951c",
   "metadata": {},
   "source": [
    "# 🌺 Day 1\n",
    "<sub>**07/06/2025**</sub>\n",
    "\n",
    "I initially changed my mind and decided to learn using a textbook, but after studying the first chapter of the *HSK 1 Standard Course* book, I realized I'd progress too slowly this way. So, I went back to the original study plan:\n",
    "\n",
    "1. Watch a *Little Fox Chinese* video (following the site's recommended order). \n",
    "2. Add the new words to both *Pleco* (for spaced repetition) and *Immersi* (to reinforce through video context). \n",
    "3. If I get tired of *Little Fox* or want to practice reading/spelling, I'll read a story on *Du Chinese* or watch a video on YouTube. Again, I'll add unfamiliar words to *Pleco* and *Immersi*.\n",
    "4. Practice forming my own sentences. As usual, I'll use *Pleco* and *Immersi* whenever I need to learn a new word. \n",
    "5. Look things up online for extra practice. \n",
    "\n",
    "I'll stick to this routine until I reach SHK 1. I won't move forward until I've mastered most of the words in my current study list (which includes spelling). \n",
    "\n",
    "Below are some words I learned on Day 1, back when I was still using the textbook: \n",
    "\n",
    "*(I hadn't been introduced to questions or possessive forms yet, but they're useful for building sentences and vocabulary.)* "
   ]
  },
  {
   "cell_type": "code",
   "execution_count": null,
   "id": "032d8696-6680-4305-9716-f2199c1d0879",
   "metadata": {},
   "outputs": [],
   "source": [
    "text =\"\"\"你可以辅导我吗？\n",
    "你可以辅导猫吗？\n",
    "\"\"\"\n",
    "text_tweaks(text)"
   ]
  },
  {
   "cell_type": "markdown",
   "id": "62a472b0-1721-42b9-b655-33b3a58c345d",
   "metadata": {},
   "source": [
    "**note**: `辅导` sounds weird here ^ because it's a word \n",
    "used to teach humans, not pets."
   ]
  },
  {
   "cell_type": "code",
   "execution_count": null,
   "id": "5d858e98-48e1-4c80-8353-056de2b43ed1",
   "metadata": {},
   "outputs": [],
   "source": [
    "text = \"\"\"你可以辅导我的妈妈？\n",
    "你可以辅导我的姐姐？\n",
    "我看到石头\n",
    "我的妈妈\n",
    "我看到马\n",
    "我看到我的姐姐\n",
    "我看到蚂蚁\n",
    "我看到蜜蜂\n",
    "我看到树\n",
    "我看到猫\n",
    "我看到\n",
    "我能看到花\n",
    "你骂我\n",
    "您好\n",
    "对不起\n",
    "没关系\n",
    "一，二，快跑！\n",
    "你好。你们可以辅导我的姐姐？\n",
    "\"\"\"\n",
    "\n",
    "text_tweaks(text)"
   ]
  },
  {
   "cell_type": "markdown",
   "id": "df1282be-2982-4763-9b98-47406840cee6",
   "metadata": {},
   "source": [
    "# 🌺 Day 2:\n",
    "<sub>**07/07/2025**</sub>\n",
    "\n",
    "From day two and beyond I didn't use a textbook anymore.\n",
    "\n",
    "Here's what I did:\n",
    "\n",
    "**30 minutes of videos of a Chinese person speaking.**\n",
    "\n",
    "Chosen video: [L01| Comprehensible input Chinese | TPRS | Self-introduction in Chinese | my mum and my boyfriend](https://youtu.be/_CMzfhsCYrA?si=Q_8mo30a8s8ebMCJ) from [Lazy Chinese - Comprehensible Input](https://www.youtube.com/@comprehensiblechinese) (love that channel)."
   ]
  },
  {
   "cell_type": "code",
   "execution_count": null,
   "id": "610d3347-0a37-4304-96b5-732dff6d65d5",
   "metadata": {},
   "outputs": [],
   "source": [
    "YouTubeVideo('_CMzfhsCYrA', autoplay=0, rel=0)"
   ]
  },
  {
   "cell_type": "markdown",
   "id": "7028c092-928c-48dc-9f2e-2bb83d5baddf",
   "metadata": {},
   "source": [
    "Transcript:"
   ]
  },
  {
   "cell_type": "code",
   "execution_count": null,
   "id": "8b1e4406-4b5f-44aa-89c4-249c816230a4",
   "metadata": {},
   "outputs": [],
   "source": [
    "text = \"\"\"你好！\n",
    "我叫Sue Qīng。我叫Sue King？不不不。我叫Sue Squing？不不不。\n",
    "我是中国人。我是日本人？不不不。\n",
    "可是，我住在中国？不不不。我不住在中国。我住在澳大利亚，悉尼。\n",
    "我有一个男朋友。\n",
    "他是中国人？不不不。他是澳大利亚人？不不不。他是英国人？对！\n",
    "可是我的妈妈不喜欢他。为什么？\n",
    "为什么我的妈妈不喜欢他？\n",
    "因为他很胖? 不不不。他不胖。\n",
    "因为他很穷？他不穷。\n",
    "因为他很矮？不不不。他不矮。\n",
    "为什么我的妈妈不喜欢他？因为他不要在中国买房子。\n",
    "我的妈妈不喜欢他因为他没有房子？不不不。因为他不要在中国买房子。\n",
    "谢谢！\n",
    "\"\"\"\n",
    "\n",
    "text_tweaks(text)"
   ]
  },
  {
   "cell_type": "markdown",
   "id": "5597db74-301e-44bc-a948-730a2cbabe0a",
   "metadata": {},
   "source": [
    "I also shadowed her way of speaking (that's why it took 30 minutes).\n",
    "\n",
    "# 🌺 Day 3 \n",
    "<sub>**07/08/2025**</sub>\n",
    "\n",
    "me ded.\n",
    "\n",
    "# 🌺 Day 4\n",
    "<sub>**07/09/2025**</sub>\n",
    "\n",
    "me beyond ded. \n",
    "\n",
    "# 🌺 Day 5\n",
    "<sub>**07/10/2025**</sub>\n",
    "\n",
    "me six feet under ded.\n",
    "\n",
    "# 🌺 Day 6\n",
    "<sub>**07/11/2025**</sub>\n",
    "\n",
    "Reviewed 64 words on Pleco SRS + watched the Day 2 review transcript video. I also used Immersi.\n",
    "\n",
    "# 🌺 Day 7\n",
    "<sub>**07/12/2025**</sub>\n",
    "\n",
    "Same of Day 6. I also tried handwriting a little, but realized it'd slow me down a lot if I tried to learn how to write *every* character. I don't even handwrite in my own language these days, and I'm not sure when I'd need to do it in Mandarin (speaking of which, I hope I can use a computer for the HSK test, so I only use pinyin).\n",
    "\n",
    "# 🪷 My thoughts about this week\n",
    "\n",
    "I know the basics of most of the content since I'd studied for about a month before. When I stopped back then, I could read simple texts, like children's stories. The thing is, I didn't care about tones, which was a huge mistake. I focused only on reading, thinking it'd be easier to learn tones later. Maybe that's true, but it ended up being frustrating not knowing how to speak. That's why I'm taking my time now to learn how to communicate properly. Right now most of my SRS time is spent on pronunciation.\n",
    "\n",
    "Hope I can do more next week! 🍵"
   ]
  }
 ],
 "metadata": {
  "kernelspec": {
   "display_name": "Python 3 (ipykernel)",
   "language": "python",
   "name": "python3"
  },
  "language_info": {
   "codemirror_mode": {
    "name": "ipython",
    "version": 3
   },
   "file_extension": ".py",
   "mimetype": "text/x-python",
   "name": "python",
   "nbconvert_exporter": "python",
   "pygments_lexer": "ipython3",
   "version": "3.13.7"
  }
 },
 "nbformat": 4,
 "nbformat_minor": 5
}
